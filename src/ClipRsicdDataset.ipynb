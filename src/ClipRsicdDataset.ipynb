{
 "cells": [
  {
   "cell_type": "code",
   "execution_count": 1,
   "metadata": {},
   "outputs": [
    {
     "name": "stdout",
     "output_type": "stream",
     "text": [
      "MPS available.\n"
     ]
    }
   ],
   "source": [
    "import torch\n",
    "import torch.nn as nn\n",
    "from torch.nn import functional as nnf\n",
    "from torch.utils.data import Dataset, DataLoader\n",
    "from enum import Enum\n",
    "from transformers import (\n",
    "    GPT2Tokenizer,\n",
    "    GPT2LMHeadModel,\n",
    "    CLIPProcessor,\n",
    "    CLIPModel,\n",
    "    AdamW,\n",
    "    get_linear_schedule_with_warmup,\n",
    ")\n",
    "from tqdm import tqdm\n",
    "import os\n",
    "import pickle\n",
    "import sys\n",
    "import argparse\n",
    "import json\n",
    "from typing import Tuple, Optional, Union\n",
    "from datasets import load_dataset\n",
    "\n",
    "DEVICE = torch.device(\"cuda\" if torch.cuda.is_available() else \"cpu\")\n",
    "if torch.backends.mps.is_available():\n",
    "    DEVICE = torch.device(\"mps\")\n",
    "    print(\"MPS available.\")\n",
    "else:\n",
    "    if not torch.backends.mps.is_built():\n",
    "        print(\n",
    "            \"MPS not available because the current PyTorch install was not \"\n",
    "            \"built with MPS enabled.\"\n",
    "        )\n",
    "    else:\n",
    "        print(\n",
    "            \"MPS not available because the current MacOS version is not 12.3+ \"\n",
    "            \"and/or you do not have an MPS-enabled device on this machine.\"\n",
    "        )\n",
    "\n"
   ]
  },
  {
   "cell_type": "code",
   "execution_count": 2,
   "metadata": {},
   "outputs": [],
   "source": [
    "\n",
    "clip_model = CLIPModel.from_pretrained(\"openai/clip-vit-base-patch16\").to(DEVICE)\n",
    "clip_processor = CLIPProcessor.from_pretrained(\"openai/clip-vit-base-patch16\")\n",
    "tokenizer = GPT2Tokenizer.from_pretrained(\"gpt2\")"
   ]
  },
  {
   "cell_type": "code",
   "execution_count": 3,
   "metadata": {},
   "outputs": [],
   "source": [
    "dataset = load_dataset(\"arampacha/rsicd\")  # , split=\"train\")\n"
   ]
  },
  {
   "cell_type": "code",
   "execution_count": 4,
   "metadata": {},
   "outputs": [
    {
     "data": {
      "text/plain": [
       "DatasetDict({\n",
       "    train: Dataset({\n",
       "        features: ['filename', 'captions', 'image'],\n",
       "        num_rows: 8734\n",
       "    })\n",
       "    test: Dataset({\n",
       "        features: ['filename', 'captions', 'image'],\n",
       "        num_rows: 1093\n",
       "    })\n",
       "    valid: Dataset({\n",
       "        features: ['filename', 'captions', 'image'],\n",
       "        num_rows: 1094\n",
       "    })\n",
       "})"
      ]
     },
     "execution_count": 4,
     "metadata": {},
     "output_type": "execute_result"
    }
   ],
   "source": [
    "dataset"
   ]
  },
  {
   "cell_type": "code",
   "execution_count": 5,
   "metadata": {},
   "outputs": [
    {
     "name": "stderr",
     "output_type": "stream",
     "text": [
      "Processing train dataset: 100%|██████████| 8734/8734 [05:47<00:00, 25.11it/s]\n",
      "Processing valid dataset: 100%|██████████| 1094/1094 [00:49<00:00, 22.30it/s]\n",
      "Processing test dataset: 100%|██████████| 1093/1093 [00:49<00:00, 22.19it/s]\n"
     ]
    }
   ],
   "source": [
    "data_path = \"../data/\"\n",
    "\n",
    "if not os.path.exists(data_path):\n",
    "    os.makedirs(data_path)\n",
    "\n",
    "file_name = \"rsicd_dataset.json\"\n",
    "\n",
    "with open(data_path + file_name, \"w\") as f:\n",
    "    id = 0\n",
    "    for split in [\"train\", \"valid\", \"test\"]:\n",
    "        progress = tqdm(dataset[split])\n",
    "        progress.set_description(f\"Processing {split} dataset\")\n",
    "        for i, row in enumerate(dataset[split]):\n",
    "            caption = row[\"captions\"][0]\n",
    "            caption_tokens = torch.tensor(tokenizer.encode(caption), dtype=torch.int64).to(\"cpu\")\n",
    "            \n",
    "            clip_inputs = clip_processor(images=row[\"image\"], return_tensors=\"pt\").to(DEVICE)\n",
    "            clip_embedding = clip_model.get_image_features(**clip_inputs).squeeze(0).to(\"cpu\") # Shape: (512,)\n",
    "            # free memory\n",
    "            del clip_inputs\n",
    "            torch.mps.empty_cache()\n",
    "\n",
    "            record = {\n",
    "                \"caption\": caption,\n",
    "                \"caption_tokens\": caption_tokens.tolist(),\n",
    "                \"clip_embedding\": clip_embedding.tolist(),\n",
    "                \"split\": split,\n",
    "                \"id\": i,\n",
    "\n",
    "            }\n",
    "            # write to file\n",
    "            f.write(json.dumps(record) + \"\\n\")\n",
    "            id += 1\n",
    "            progress.update()\n",
    "        progress.close()\n"
   ]
  },
  {
   "cell_type": "code",
   "execution_count": 12,
   "metadata": {},
   "outputs": [],
   "source": [
    "clip_rsicd_dataset = load_dataset(\"json\", data_files=data_path + file_name, split=\"train\")"
   ]
  },
  {
   "cell_type": "code",
   "execution_count": 13,
   "metadata": {},
   "outputs": [
    {
     "data": {
      "text/plain": [
       "Dataset({\n",
       "    features: ['caption', 'caption_tokens', 'clip_embedding', 'split', 'id'],\n",
       "    num_rows: 10921\n",
       "})"
      ]
     },
     "execution_count": 13,
     "metadata": {},
     "output_type": "execute_result"
    }
   ],
   "source": [
    "clip_rsicd_dataset"
   ]
  },
  {
   "cell_type": "code",
   "execution_count": 16,
   "metadata": {},
   "outputs": [
    {
     "data": {
      "text/plain": [
       "389"
      ]
     },
     "execution_count": 16,
     "metadata": {},
     "output_type": "execute_result"
    }
   ],
   "source": [
    "clip_rsicd_dataset[5]['caption_tokens']"
   ]
  }
 ],
 "metadata": {
  "kernelspec": {
   "display_name": ".venv",
   "language": "python",
   "name": "python3"
  },
  "language_info": {
   "codemirror_mode": {
    "name": "ipython",
    "version": 3
   },
   "file_extension": ".py",
   "mimetype": "text/x-python",
   "name": "python",
   "nbconvert_exporter": "python",
   "pygments_lexer": "ipython3",
   "version": "3.11.9"
  }
 },
 "nbformat": 4,
 "nbformat_minor": 2
}
