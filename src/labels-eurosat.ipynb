{
 "cells": [
  {
   "cell_type": "code",
   "execution_count": 3,
   "metadata": {},
   "outputs": [],
   "source": [
    "from PIL import Image\n",
    "import requests\n",
    "\n",
    "from transformers import CLIPProcessor, CLIPModel"
   ]
  },
  {
   "cell_type": "code",
   "execution_count": 4,
   "metadata": {},
   "outputs": [],
   "source": [
    "model = CLIPModel.from_pretrained(\"openai/clip-vit-base-patch32\")\n",
    "processor = CLIPProcessor.from_pretrained(\"openai/clip-vit-base-patch32\")\n"
   ]
  },
  {
   "cell_type": "code",
   "execution_count": 5,
   "metadata": {},
   "outputs": [],
   "source": [
    "from datasets import load_dataset\n",
    "\n",
    "EuroSAT_RGB = load_dataset(\"blanchon/EuroSAT_RGB\")  # 64x64"
   ]
  },
  {
   "cell_type": "code",
   "execution_count": 5,
   "metadata": {},
   "outputs": [
    {
     "data": {
      "text/plain": [
       "DatasetDict({\n",
       "    train: Dataset({\n",
       "        features: ['image', 'label', 'filename'],\n",
       "        num_rows: 16200\n",
       "    })\n",
       "    test: Dataset({\n",
       "        features: ['image', 'label', 'filename'],\n",
       "        num_rows: 5400\n",
       "    })\n",
       "    validation: Dataset({\n",
       "        features: ['image', 'label', 'filename'],\n",
       "        num_rows: 5400\n",
       "    })\n",
       "})"
      ]
     },
     "execution_count": 5,
     "metadata": {},
     "output_type": "execute_result"
    }
   ],
   "source": [
    "EuroSAT_RGB"
   ]
  },
  {
   "cell_type": "code",
   "execution_count": 6,
   "metadata": {},
   "outputs": [
    {
     "name": "stdout",
     "output_type": "stream",
     "text": [
      "['Annual Crop', 'Forest', 'Herbaceous Vegetation', 'Highway', 'Industrial Buildings', 'Pasture', 'Permanent Crop', 'Residential Buildings', 'River', 'SeaLake']\n"
     ]
    }
   ],
   "source": [
    "classes = EuroSAT_RGB[\"train\"].features[\"label\"].names\n",
    "print(classes)"
   ]
  },
  {
   "cell_type": "code",
   "execution_count": 7,
   "metadata": {},
   "outputs": [
    {
     "data": {
      "image/png": "[encoded data removed]",
      "text/plain": [
       "<Figure size 640x480 with 1 Axes>"
      ]
     },
     "metadata": {},
     "output_type": "display_data"
    },
    {
     "name": "stdout",
     "output_type": "stream",
     "text": [
      "Highway\n"
     ]
    }
   ],
   "source": [
    "# pick a random image from the dataset\n",
    "import random\n",
    "import matplotlib.pyplot as plt\n",
    "\n",
    "random_index = random.randint(0, len(EuroSAT_RGB[\"train\"]))\n",
    "sample = EuroSAT_RGB[\"train\"][random_index]\n",
    "plt.imshow(sample[\"image\"])\n",
    "plt.axis(\"off\")\n",
    "plt.show()\n",
    "label = classes[sample[\"label\"]]\n",
    "print(label)\n"
   ]
  },
  {
   "cell_type": "code",
   "execution_count": 8,
   "metadata": {},
   "outputs": [
    {
     "name": "stdout",
     "output_type": "stream",
     "text": [
      "Permanent Crop  0.26\n",
      "Highway         0.23\n",
      "Pasture         0.11\n",
      "River           0.08\n",
      "Forest          0.06\n",
      "Industrial Buildings 0.06\n",
      "SeaLake         0.06\n",
      "Annual Crop     0.05\n",
      "Residential Buildings 0.05\n",
      "Herbaceous Vegetation 0.04\n"
     ]
    }
   ],
   "source": [
    "# predict label of the image\n",
    "inputs = processor(\n",
    "    text=classes, images=sample[\"image\"], return_tensors=\"pt\", padding=True\n",
    ")\n",
    "outputs = model(**inputs)\n",
    "logits_per_image = outputs.logits_per_image\n",
    "probs = logits_per_image.softmax(dim=1).detach().numpy()\n",
    "\n",
    "# print prob of all classes from highest to lowest prob\n",
    "for i in probs.argsort()[0][::-1]:\n",
    "    print(f\"{classes[i]:<15} {probs[0][i]:.2f}\")\n"
   ]
  },
  {
   "cell_type": "code",
   "execution_count": null,
   "metadata": {},
   "outputs": [],
   "source": []
  },
  {
   "cell_type": "code",
   "execution_count": 33,
   "metadata": {},
   "outputs": [
    {
     "name": "stderr",
     "output_type": "stream",
     "text": [
      "  0%|          | 0/5400 [00:00<?, ?it/s]"
     ]
    },
    {
     "name": "stderr",
     "output_type": "stream",
     "text": [
      "100%|██████████| 5400/5400 [04:29<00:00, 20.06it/s]"
     ]
    },
    {
     "name": "stdout",
     "output_type": "stream",
     "text": [
      "Accuracy: 2401 / 5400 = 0.44\n",
      "Mistakes:\n",
      "Annual Crop->Permanent Crop: 175\n",
      "Annual Crop->Industrial Buildings: 124\n",
      "Annual Crop->Forest: 72\n",
      "Annual Crop->Residential Buildings: 35\n",
      "Annual Crop->Highway: 27\n",
      "Annual Crop->SeaLake: 6\n",
      "Annual Crop->Pasture: 5\n",
      "Forest->Highway: 45\n",
      "Forest->SeaLake: 48\n",
      "Forest->River: 12\n",
      "Forest->Pasture: 3\n",
      "Forest->Industrial Buildings: 2\n",
      "Forest->Residential Buildings: 1\n",
      "Forest->Permanent Crop: 2\n",
      "Herbaceous Vegetation->Forest: 424\n",
      "Herbaceous Vegetation->SeaLake: 22\n",
      "Herbaceous Vegetation->Pasture: 66\n",
      "Herbaceous Vegetation->Highway: 42\n",
      "Herbaceous Vegetation->Industrial Buildings: 10\n",
      "Herbaceous Vegetation->Residential Buildings: 21\n",
      "Herbaceous Vegetation->River: 38\n",
      "Herbaceous Vegetation->Annual Crop: 3\n",
      "Herbaceous Vegetation->Permanent Crop: 2\n",
      "Highway->SeaLake: 4\n",
      "Highway->Permanent Crop: 45\n",
      "Highway->Industrial Buildings: 118\n",
      "Highway->Annual Crop: 27\n",
      "Highway->Residential Buildings: 5\n",
      "Highway->Pasture: 5\n",
      "Highway->River: 3\n",
      "Highway->Forest: 2\n",
      "Industrial Buildings->Residential Buildings: 112\n",
      "Pasture->Annual Crop: 94\n",
      "Pasture->Forest: 57\n",
      "Pasture->Permanent Crop: 80\n",
      "Pasture->SeaLake: 2\n",
      "Pasture->Industrial Buildings: 13\n",
      "Pasture->River: 6\n",
      "Permanent Crop->Industrial Buildings: 104\n",
      "Permanent Crop->Forest: 35\n",
      "Permanent Crop->Residential Buildings: 46\n",
      "Permanent Crop->Annual Crop: 155\n",
      "Permanent Crop->Pasture: 17\n",
      "Permanent Crop->Highway: 6\n",
      "Permanent Crop->River: 3\n",
      "Permanent Crop->SeaLake: 3\n",
      "Residential Buildings->Industrial Buildings: 57\n",
      "Residential Buildings->Forest: 4\n",
      "Residential Buildings->Highway: 1\n",
      "River->Permanent Crop: 63\n",
      "River->Industrial Buildings: 107\n",
      "River->Highway: 43\n",
      "River->Residential Buildings: 13\n",
      "River->Annual Crop: 34\n",
      "River->Forest: 26\n",
      "River->Pasture: 16\n",
      "River->SeaLake: 11\n",
      "SeaLake->River: 134\n",
      "SeaLake->Forest: 342\n",
      "SeaLake->Highway: 14\n",
      "SeaLake->Permanent Crop: 1\n",
      "SeaLake->Industrial Buildings: 4\n",
      "SeaLake->Residential Buildings: 1\n",
      "SeaLake->Pasture: 1\n"
     ]
    },
    {
     "name": "stderr",
     "output_type": "stream",
     "text": [
      "\n"
     ]
    }
   ],
   "source": [
    "# calculate prediction accuracy on the validation dataset\n",
    "from tqdm import tqdm\n",
    "\n",
    "text_to_predict = [f\"A satellite photo containing {c}\" for c in classes]\n",
    "\n",
    "correct = 0\n",
    "total = 0\n",
    "mistakes = {}\n",
    "for sample in tqdm(EuroSAT_RGB[\"validation\"]):\n",
    "    inputs = processor(\n",
    "        text=text_to_predict, images=sample[\"image\"], return_tensors=\"pt\", padding=True\n",
    "    )\n",
    "    outputs = model(**inputs)\n",
    "    logits_per_image = outputs.logits_per_image\n",
    "    probs = logits_per_image.softmax(dim=1).detach().numpy()\n",
    "    pred = probs.argmax()\n",
    "    if pred == sample[\"label\"]:\n",
    "        correct += 1\n",
    "    else:\n",
    "        # print predicted prob vs actual prob\n",
    "        # print(f\"Predicted: {classes[pred]} ({probs[0][pred]:.2f})\")\n",
    "        # print(f\"Actual: {classes[sample['label']]} ({probs[0][sample['label']]:.2f})\")\n",
    "        mistake = f\"{classes[sample['label']]}->{classes[pred]}\"\n",
    "        # check if mistake is already in the dict\n",
    "        if mistake not in mistakes:\n",
    "            mistakes[mistake] = 1\n",
    "        else:\n",
    "            mistakes[mistake] += 1\n",
    "    total += 1\n",
    "    # if total == 100:\n",
    "    #     break\n",
    "\n",
    "print(f\"Accuracy: {correct} / {total} = {correct / total:.2f}\")\n",
    "print(\"Mistakes:\")\n",
    "for mistake, count in mistakes.items():\n",
    "    print(f\"{mistake}: {count}\")"
   ]
  },
  {
   "cell_type": "code",
   "execution_count": 36,
   "metadata": {},
   "outputs": [],
   "source": [
    "# [\n",
    "# 0     \"Annual Crop\",\n",
    "# 1     \"Forest\",\n",
    "# 2     \"Herbaceous Vegetation\",\n",
    "# 3     \"Highway\",\n",
    "# 4     \"Industrial Buildings\",\n",
    "# 5     \"Pasture\",\n",
    "# 6     \"Permanent Crop\",\n",
    "# 7     \"Residential Buildings\",\n",
    "# 8     \"River\",\n",
    "# 9     \"SeaLake\",\n",
    "# ]\n",
    "\n",
    "revised_classes = [\n",
    "    \"Crop\",\n",
    "    \"Forest\",\n",
    "    \"Vegetation\",\n",
    "    \"Highway\",\n",
    "    \"Industrial Buildings\",\n",
    "    \"Pasture\",\n",
    "    \"Residential Buildings\",\n",
    "    \"River\",\n",
    "    \"Sea\",\n",
    "    \"Lake\",\n",
    "]\n",
    "# to lower case\n",
    "revised_classes = [c.lower() for c in revised_classes]\n",
    "\n",
    "\n",
    "# given predicted revised class idx and target original class idx check if prediction was correct\n",
    "def is_correct(revised_class_idx, target_class_idx):\n",
    "    if revised_class_idx == 0:\n",
    "        return target_class_idx == 0 or target_class_idx == 6\n",
    "    if revised_class_idx == 6:\n",
    "        return target_class_idx == 7\n",
    "    if revised_class_idx == 7:\n",
    "        return target_class_idx == 8\n",
    "    if revised_class_idx == 8 or revised_class_idx == 9:\n",
    "        return target_class_idx == 9\n",
    "    return revised_class_idx == target_class_idx\n",
    "\n",
    "\n",
    "# get index of Crop class\n",
    "assert is_correct(revised_classes.index(\"crop\"), classes.index(\"Annual Crop\"))\n",
    "assert is_correct(revised_classes.index(\"crop\"), classes.index(\"Permanent Crop\"))\n",
    "assert is_correct(revised_classes.index(\"forest\"), classes.index(\"Forest\"))\n",
    "assert is_correct(\n",
    "    revised_classes.index(\"vegetation\"), classes.index(\"Herbaceous Vegetation\")\n",
    ")\n",
    "assert is_correct(revised_classes.index(\"highway\"), classes.index(\"Highway\"))\n",
    "assert is_correct(\n",
    "    revised_classes.index(\"industrial buildings\"), classes.index(\"Industrial Buildings\")\n",
    ")\n",
    "assert is_correct(revised_classes.index(\"pasture\"), classes.index(\"Pasture\"))\n",
    "assert is_correct(\n",
    "    revised_classes.index(\"residential buildings\"),\n",
    "    classes.index(\"Residential Buildings\"),\n",
    ")\n",
    "assert is_correct(revised_classes.index(\"river\"), classes.index(\"River\"))\n",
    "assert is_correct(revised_classes.index(\"sea\"), classes.index(\"SeaLake\"))\n",
    "assert is_correct(revised_classes.index(\"lake\"), classes.index(\"SeaLake\"))"
   ]
  },
  {
   "cell_type": "code",
   "execution_count": 38,
   "metadata": {},
   "outputs": [
    {
     "name": "stderr",
     "output_type": "stream",
     "text": [
      "100%|██████████| 5400/5400 [04:46<00:00, 18.82it/s]"
     ]
    },
    {
     "name": "stdout",
     "output_type": "stream",
     "text": [
      "Accuracy: 3066 / 5400 = 0.57\n",
      "Mistakes:\n",
      "Annual Crop->industrial buildings: 69\n",
      "Annual Crop->forest: 26\n",
      "Annual Crop->highway: 10\n",
      "Annual Crop->pasture: 2\n",
      "Annual Crop->residential buildings: 15\n",
      "Annual Crop->sea: 1\n",
      "Forest->highway: 19\n",
      "Forest->sea: 159\n",
      "Forest->crop: 25\n",
      "Forest->pasture: 2\n",
      "Forest->river: 1\n",
      "Forest->industrial buildings: 1\n",
      "Herbaceous Vegetation->forest: 397\n",
      "Herbaceous Vegetation->crop: 55\n",
      "Herbaceous Vegetation->pasture: 60\n",
      "Herbaceous Vegetation->highway: 40\n",
      "Herbaceous Vegetation->lake: 10\n",
      "Herbaceous Vegetation->industrial buildings: 7\n",
      "Herbaceous Vegetation->residential buildings: 20\n",
      "Herbaceous Vegetation->sea: 5\n",
      "Herbaceous Vegetation->river: 31\n",
      "Highway->crop: 103\n",
      "Highway->industrial buildings: 110\n",
      "Highway->residential buildings: 5\n",
      "Highway->pasture: 2\n",
      "Highway->river: 2\n",
      "Highway->forest: 1\n",
      "Highway->lake: 1\n",
      "Industrial Buildings->residential buildings: 112\n",
      "Pasture->crop: 295\n",
      "Pasture->forest: 36\n",
      "Pasture->lake: 2\n",
      "Pasture->river: 5\n",
      "Pasture->industrial buildings: 6\n",
      "Permanent Crop->industrial buildings: 91\n",
      "Permanent Crop->residential buildings: 45\n",
      "Permanent Crop->forest: 23\n",
      "Permanent Crop->pasture: 11\n",
      "Permanent Crop->lake: 2\n",
      "Permanent Crop->river: 3\n",
      "Permanent Crop->highway: 4\n",
      "Residential Buildings->crop: 4\n",
      "Residential Buildings->industrial buildings: 55\n",
      "Residential Buildings->forest: 3\n",
      "Residential Buildings->highway: 1\n",
      "River->crop: 145\n",
      "River->industrial buildings: 100\n",
      "River->highway: 37\n",
      "River->residential buildings: 11\n",
      "River->lake: 16\n",
      "River->pasture: 8\n",
      "River->forest: 20\n",
      "SeaLake->forest: 72\n",
      "SeaLake->crop: 29\n",
      "SeaLake->river: 6\n",
      "SeaLake->highway: 8\n",
      "SeaLake->industrial buildings: 4\n",
      "SeaLake->residential buildings: 1\n"
     ]
    },
    {
     "name": "stderr",
     "output_type": "stream",
     "text": [
      "\n"
     ]
    }
   ],
   "source": [
    "# calculate prediction accuracy on the validation dataset\n",
    "from tqdm import tqdm\n",
    "\n",
    "text_to_predict = [f\"A satellite photo containing {c}\" for c in revised_classes]\n",
    "\n",
    "correct = 0\n",
    "total = 0\n",
    "mistakes = {}\n",
    "for sample in tqdm(EuroSAT_RGB[\"validation\"]):\n",
    "    inputs = processor(\n",
    "        text=text_to_predict, images=sample[\"image\"], return_tensors=\"pt\", padding=True\n",
    "    )\n",
    "    outputs = model(**inputs)\n",
    "    logits_per_image = outputs.logits_per_image\n",
    "    probs = logits_per_image.softmax(dim=1).detach().numpy()\n",
    "    pred = probs.argmax()\n",
    "    if is_correct(pred, sample[\"label\"]):\n",
    "        correct += 1\n",
    "    else:\n",
    "        mistake = f\"{classes[sample['label']]}->{revised_classes[pred]}\"\n",
    "        # check if mistake is already in the dict\n",
    "        if mistake not in mistakes:\n",
    "            mistakes[mistake] = 1\n",
    "        else:\n",
    "            mistakes[mistake] += 1\n",
    "    total += 1\n",
    "    # if total == 100:\n",
    "    # break\n",
    "\n",
    "print(f\"Accuracy: {correct} / {total} = {correct / total:.2f}\")\n",
    "print(\"Mistakes:\")\n",
    "for mistake, count in mistakes.items():\n",
    "    print(f\"{mistake}: {count}\")"
   ]
  },
  {
   "cell_type": "code",
   "execution_count": 11,
   "metadata": {},
   "outputs": [],
   "source": [
    "# [\n",
    "# 0     \"Annual Crop\",\n",
    "# 1     \"Forest\",\n",
    "# 2     \"Herbaceous Vegetation\",\n",
    "# 3     \"Highway\",\n",
    "# 4     \"Industrial Buildings\",\n",
    "# 5     \"Pasture\",\n",
    "# 6     \"Permanent Crop\",\n",
    "# 7     \"Residential Buildings\",\n",
    "# 8     \"River\",\n",
    "# 9     \"SeaLake\",\n",
    "# ]\n",
    "\n",
    "revised_classes = [\n",
    "    \"Field\",\n",
    "    \"Forest\",\n",
    "    \"Highway\",\n",
    "    \"Buildings\",\n",
    "    \"body of water\",\n",
    "]\n",
    "# to lower case\n",
    "revised_classes = [c.lower() for c in revised_classes]\n",
    "\n",
    "\n",
    "mapping = {}\n",
    "mapping[revised_classes.index(\"field\")] = set([0, 2, 5, 6])\n",
    "mapping[revised_classes.index(\"forest\")] = set([1])\n",
    "mapping[revised_classes.index(\"highway\")] = set([3])\n",
    "mapping[revised_classes.index(\"buildings\")] = set([4, 7])\n",
    "mapping[revised_classes.index(\"body of water\")] = set([8, 9])\n",
    "\n",
    "\n",
    "# given predicted revised class idx and target original class idx check if prediction was correct\n",
    "def is_correct(revised_class_idx, target_class_idx):\n",
    "    return target_class_idx in mapping[revised_class_idx]\n",
    "\n",
    "\n",
    "# get index of Crop class\n",
    "assert is_correct(revised_classes.index(\"field\"), classes.index(\"Annual Crop\"))\n",
    "assert is_correct(revised_classes.index(\"field\"), classes.index(\"Permanent Crop\"))\n",
    "assert is_correct(revised_classes.index(\"forest\"), classes.index(\"Forest\"))\n",
    "assert is_correct(\n",
    "    revised_classes.index(\"field\"), classes.index(\"Herbaceous Vegetation\")\n",
    ")\n",
    "assert is_correct(revised_classes.index(\"highway\"), classes.index(\"Highway\"))\n",
    "assert is_correct(\n",
    "    revised_classes.index(\"buildings\"), classes.index(\"Industrial Buildings\")\n",
    ")\n",
    "assert is_correct(revised_classes.index(\"field\"), classes.index(\"Pasture\"))\n",
    "assert is_correct(\n",
    "    revised_classes.index(\"buildings\"),\n",
    "    classes.index(\"Residential Buildings\"),\n",
    ")\n",
    "assert is_correct(revised_classes.index(\"body of water\"), classes.index(\"River\"))\n",
    "assert is_correct(revised_classes.index(\"body of water\"), classes.index(\"SeaLake\"))\n",
    "assert is_correct(revised_classes.index(\"body of water\"), classes.index(\"SeaLake\"))"
   ]
  },
  {
   "cell_type": "code",
   "execution_count": 41,
   "metadata": {},
   "outputs": [
    {
     "name": "stderr",
     "output_type": "stream",
     "text": [
      "100%|██████████| 5400/5400 [04:20<00:00, 20.69it/s]"
     ]
    },
    {
     "name": "stdout",
     "output_type": "stream",
     "text": [
      "Accuracy: 3134 / 5400 = 0.58\n",
      "Mistakes:\n",
      "Annual Crop->buildings: 58\n",
      "Annual Crop->forest: 30\n",
      "Annual Crop->highway: 6\n",
      "Forest->highway: 10\n",
      "Forest->field: 262\n",
      "Forest->body of water: 3\n",
      "Forest->buildings: 1\n",
      "Herbaceous Vegetation->forest: 370\n",
      "Herbaceous Vegetation->buildings: 43\n",
      "Herbaceous Vegetation->highway: 32\n",
      "Herbaceous Vegetation->body of water: 2\n",
      "Highway->field: 158\n",
      "Highway->buildings: 39\n",
      "Highway->forest: 3\n",
      "Industrial Buildings->field: 15\n",
      "Industrial Buildings->highway: 1\n",
      "Pasture->forest: 40\n",
      "Pasture->highway: 1\n",
      "Permanent Crop->buildings: 109\n",
      "Permanent Crop->forest: 27\n",
      "Permanent Crop->highway: 4\n",
      "Residential Buildings->field: 8\n",
      "Residential Buildings->forest: 4\n",
      "Residential Buildings->highway: 5\n",
      "River->field: 304\n",
      "River->highway: 68\n",
      "River->buildings: 88\n",
      "River->forest: 30\n",
      "SeaLake->field: 352\n",
      "SeaLake->forest: 179\n",
      "SeaLake->highway: 8\n",
      "SeaLake->buildings: 6\n"
     ]
    },
    {
     "name": "stderr",
     "output_type": "stream",
     "text": [
      "\n"
     ]
    }
   ],
   "source": [
    "# calculate prediction accuracy on the validation dataset\n",
    "from tqdm import tqdm\n",
    "\n",
    "text_to_predict = [f\"A satellite photo containing {c}\" for c in revised_classes]\n",
    "\n",
    "correct = 0\n",
    "total = 0\n",
    "mistakes = {}\n",
    "for sample in tqdm(EuroSAT_RGB[\"validation\"]):\n",
    "    inputs = processor(\n",
    "        text=text_to_predict, images=sample[\"image\"], return_tensors=\"pt\", padding=True\n",
    "    )\n",
    "    outputs = model(**inputs)\n",
    "    logits_per_image = outputs.logits_per_image\n",
    "    probs = logits_per_image.softmax(dim=1).detach().numpy()\n",
    "    pred = probs.argmax()\n",
    "    if is_correct(pred, sample[\"label\"]):\n",
    "        correct += 1\n",
    "    else:\n",
    "        mistake = f\"{classes[sample['label']]}->{revised_classes[pred]}\"\n",
    "        # check if mistake is already in the dict\n",
    "        if mistake not in mistakes:\n",
    "            mistakes[mistake] = 1\n",
    "        else:\n",
    "            mistakes[mistake] += 1\n",
    "    total += 1\n",
    "    # if total == 100:\n",
    "    #     break\n",
    "\n",
    "print(f\"Accuracy: {correct} / {total} = {correct / total:.2f}\")\n",
    "print(\"Mistakes:\")\n",
    "for mistake, count in mistakes.items():\n",
    "    print(f\"{mistake}: {count}\")"
   ]
  },
  {
   "cell_type": "code",
   "execution_count": 19,
   "metadata": {},
   "outputs": [],
   "source": [
    "# pick a random image from the dataset\n",
    "import random\n",
    "import matplotlib.pyplot as plt\n",
    "\n",
    "random_index = random.randint(0, len(EuroSAT_RGB[\"train\"]))\n",
    "sample = EuroSAT_RGB[\"train\"][random_index]"
   ]
  },
  {
   "cell_type": "code",
   "execution_count": 20,
   "metadata": {},
   "outputs": [
    {
     "data": {
      "image/png": "[encoded data removed]",
      "text/plain": [
       "<Figure size 640x480 with 1 Axes>"
      ]
     },
     "metadata": {},
     "output_type": "display_data"
    },
    {
     "name": "stdout",
     "output_type": "stream",
     "text": [
      "Highway\n",
      "Residential Buildings 0.43\n",
      "Industrial Buildings 0.22\n",
      "Highway         0.17\n",
      "Pasture         0.06\n",
      "Permanent Crop  0.04\n",
      "SeaLake         0.02\n",
      "Herbaceous Vegetation 0.02\n",
      "River           0.02\n",
      "Forest          0.02\n",
      "Annual Crop     0.01\n"
     ]
    }
   ],
   "source": [
    "plt.imshow(sample[\"image\"])\n",
    "plt.axis(\"off\")\n",
    "plt.show()\n",
    "label = classes[sample[\"label\"]]\n",
    "print(label)\n",
    "# predict label of the image\n",
    "inputs = processor(\n",
    "    text=classes, images=sample[\"image\"], return_tensors=\"pt\", padding=True\n",
    ")\n",
    "outputs = model(**inputs)\n",
    "logits_per_image = outputs.logits_per_image\n",
    "probs = logits_per_image.softmax(dim=1).detach().numpy()\n",
    "\n",
    "# print prob of all classes from highest to lowest prob\n",
    "for i in probs.argsort()[0][::-1]:\n",
    "    print(f\"{classes[i]:<15} {probs[0][i]:.2f}\")"
   ]
  },
  {
   "cell_type": "code",
   "execution_count": 21,
   "metadata": {},
   "outputs": [
    {
     "name": "stdout",
     "output_type": "stream",
     "text": [
      "Predicted: highway (0.45)\n"
     ]
    }
   ],
   "source": [
    "text_to_predict = [f\"A satellite photo containing {c}\" for c in revised_classes]\n",
    "inputs = processor(\n",
    "    text=text_to_predict, images=sample[\"image\"], return_tensors=\"pt\", padding=True\n",
    ")\n",
    "outputs = model(**inputs)\n",
    "logits_per_image = outputs.logits_per_image\n",
    "probs = logits_per_image.softmax(dim=1).detach().numpy()\n",
    "pred = probs.argmax()\n",
    "\n",
    "print(f\"Predicted: {revised_classes[pred]} ({probs[0][pred]:.2f})\")"
   ]
  }
 ],
 "metadata": {
  "kernelspec": {
   "display_name": ".venv",
   "language": "python",
   "name": "python3"
  },
  "language_info": {
   "codemirror_mode": {
    "name": "ipython",
    "version": 3
   },
   "file_extension": ".py",
   "mimetype": "text/x-python",
   "name": "python",
   "nbconvert_exporter": "python",
   "pygments_lexer": "ipython3",
   "version": "3.11.9"
  }
 },
 "nbformat": 4,
 "nbformat_minor": 2
}
